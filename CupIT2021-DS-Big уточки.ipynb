{
 "cells": [
  {
   "cell_type": "code",
   "execution_count": null,
   "metadata": {
    "colab": {
     "base_uri": "https://localhost:8080/"
    },
    "id": "pgupea8WGfSC",
    "outputId": "45f37221-aae8-4b0a-bfee-f73f0fe71886"
   },
   "outputs": [
    {
     "name": "stdout",
     "output_type": "stream",
     "text": [
      "[nltk_data] Downloading package wordnet to /root/nltk_data...\n",
      "[nltk_data]   Unzipping corpora/wordnet.zip.\n"
     ]
    }
   ],
   "source": [
    "import gensim\n",
    "import pandas as pd\n",
    "import numpy as np\n",
    "import matplotlib.pyplot as plt\n",
    "import seaborn as sns\n",
    "%matplotlib inline\n",
    "\n",
    "from scipy import spatial\n",
    "from scipy.sparse import hstack, lil_matrix, csr_matrix\n",
    "\n",
    "from sklearn.linear_model import LogisticRegression, LinearRegression\n",
    "from sklearn.model_selection import cross_val_score, GridSearchCV\n",
    "from sklearn.metrics import precision_recall_fscore_support\n",
    "from sklearn.metrics import fbeta_score, make_scorer, accuracy_score\n",
    "from sklearn.metrics.pairwise import paired_distances\n",
    "from sklearn.feature_extraction.text import TfidfVectorizer\n",
    "\n",
    "import nltk\n",
    "from nltk.corpus import stopwords\n",
    "nltk.download('wordnet')\n",
    "from nltk.stem import WordNetLemmatizer \n",
    "lemmatizer = WordNetLemmatizer()\n",
    "from nltk.tokenize import RegexpTokenizer\n",
    "tokenizer = RegexpTokenizer(r'\\w+')\n",
    "\n",
    "import csv\n",
    "import urllib.request\n",
    "import io\n",
    "import zipfile\n",
    "import os"
   ]
  },
  {
   "cell_type": "code",
   "execution_count": null,
   "metadata": {
    "colab": {
     "base_uri": "https://localhost:8080/"
    },
    "id": "gzER0gy6GfSO",
    "outputId": "82750a9b-d5cc-425b-bdf0-0bcbbd0dae34"
   },
   "outputs": [
    {
     "name": "stdout",
     "output_type": "stream",
     "text": [
      "Requirement already satisfied: gensim in /usr/local/lib/python3.7/dist-packages (3.6.0)\n",
      "Requirement already satisfied: smart-open>=1.2.1 in /usr/local/lib/python3.7/dist-packages (from gensim) (4.2.0)\n",
      "Requirement already satisfied: six>=1.5.0 in /usr/local/lib/python3.7/dist-packages (from gensim) (1.15.0)\n",
      "Requirement already satisfied: scipy>=0.18.1 in /usr/local/lib/python3.7/dist-packages (from gensim) (1.4.1)\n",
      "Requirement already satisfied: numpy>=1.11.3 in /usr/local/lib/python3.7/dist-packages (from gensim) (1.19.5)\n"
     ]
    }
   ],
   "source": [
    "!pip install gensim"
   ]
  },
  {
   "cell_type": "markdown",
   "metadata": {
    "id": "HqodWAGpGfSP"
   },
   "source": [
    "## Preprocessing"
   ]
  },
  {
   "cell_type": "markdown",
   "metadata": {
    "id": "YJdrtgruGfSQ"
   },
   "source": [
    "Читаем данные и приводим их к нужному формату."
   ]
  },
  {
   "cell_type": "code",
   "execution_count": null,
   "metadata": {
    "id": "hOF2lau-GfSQ"
   },
   "outputs": [],
   "source": [
    "train = pd.read_json('multinli_1.0_train.jsonl', lines = True)\n",
    "val_mismatched = pd.read_json('multinli_1.0_dev_mismatched.jsonl', lines = True)\n",
    "val_matched = pd.read_json('multinli_1.0_dev_matched.jsonl', lines = True)\n",
    "test_mismatched = pd.read_json('multinli_0.9_test_mismatched_unlabeled.jsonl', lines = True)\n",
    "test_matched = pd.read_json('multinli_0.9_test_matched_unlabeled.jsonl', lines = True)\n"
   ]
  },
  {
   "cell_type": "code",
   "execution_count": null,
   "metadata": {
    "id": "q6iJgSNMtkRc"
   },
   "outputs": [],
   "source": [
    "full = {'train': train, 'val_matched':val_matched, 'test_matched': test_matched, 'val_mismatched':val_mismatched, 'test_mismatched': test_mismatched}"
   ]
  },
  {
   "cell_type": "markdown",
   "metadata": {
    "id": "fzi6ted_GfSR"
   },
   "source": [
    "Удаляем объекты, для которых не определен класс."
   ]
  },
  {
   "cell_type": "code",
   "execution_count": null,
   "metadata": {
    "id": "5l844gcKGfSS"
   },
   "outputs": [],
   "source": [
    "def delete_unsure_labels(data): \n",
    "    data = data.drop(index = data[data.gold_label == '-'].index)\n",
    "    return data\n",
    "\n",
    "\n",
    "for frame in full:\n",
    "    full[frame] = delete_unsure_labels(full[frame])"
   ]
  },
  {
   "cell_type": "code",
   "execution_count": null,
   "metadata": {
    "id": "_N5Fe5NSGfSS"
   },
   "outputs": [],
   "source": [
    "train = full['train']\n",
    "val_matched = full['val_matched']\n",
    "val_mismatched = full['val_mismatched']\n",
    "test_matched = full['test_matched']\n",
    "test_mismatched = full['test_mismatched']"
   ]
  },
  {
   "cell_type": "code",
   "execution_count": null,
   "metadata": {
    "id": "yNTz0U9eCLQI"
   },
   "outputs": [],
   "source": [
    "val = pd.concat([val_matched, val_mismatched ], axis = 0)"
   ]
  },
  {
   "cell_type": "markdown",
   "metadata": {
    "id": "X7CKnNu6GfST"
   },
   "source": [
    "## Метрика"
   ]
  },
  {
   "cell_type": "markdown",
   "metadata": {
    "id": "xt0WjjrEGfST"
   },
   "source": [
    "Создаем свою метрику с весами 0.8, 0.1 и 0.1."
   ]
  },
  {
   "cell_type": "code",
   "execution_count": null,
   "metadata": {
    "id": "7zSY9gAVGfST"
   },
   "outputs": [],
   "source": [
    "def print_metric(y_true, y_preds):\n",
    "    prfs = precision_recall_fscore_support(y_true, y_preds, beta=3, average=None, labels=['contradiction', 'neutral', 'entailment'])\n",
    "    matrix_report = pd.DataFrame(prfs, columns = ['contradiction', 'neutral', 'entailment'], index = ['precision', 'recall', 'fscore', 'support'])\n",
    "    matrix_report['Weighted*'] = 0.8 * matrix_report['contradiction'] +  0.1 * matrix_report['neutral'] +  0.1 * matrix_report['entailment']\n",
    "    matrix_report.drop(index = 'support', inplace = True)\n",
    "    print(f\"{matrix_report.loc['fscore', 'Weighted*']:.4f}   Custom f-score\")\n",
    "    print(f\"{matrix_report.loc['recall', 'contradiction']:.4f}   Contradiction's recall\")\n",
    "    print(f\"{accuracy_score(y_true, y_preds):.4f}   Accuracy\")\n",
    "    print(matrix_report.T)"
   ]
  },
  {
   "cell_type": "code",
   "execution_count": null,
   "metadata": {
    "id": "G1rqyQ4oGfSU"
   },
   "outputs": [],
   "source": [
    "f_scorer = make_scorer(fbeta_score, beta=3, average='weighted', labels=['contradiction', 'neutral', 'entailment'])"
   ]
  },
  {
   "cell_type": "markdown",
   "metadata": {
    "id": "rgsXWXJkGfSU"
   },
   "source": [
    "## Training"
   ]
  },
  {
   "cell_type": "markdown",
   "metadata": {
    "id": "Op2VnMBSGfSU"
   },
   "source": [
    "Функция обучения модели"
   ]
  },
  {
   "cell_type": "code",
   "execution_count": null,
   "metadata": {
    "id": "y7Ngie8EGfSU"
   },
   "outputs": [],
   "source": [
    "def log_reg_cv_and_validation(X_train, X_val, y_train, max_itr = 100):\n",
    "    clf = LogisticRegression(solver = 'saga', max_iter = max_itr)\n",
    "\n",
    "    scores = cross_val_score(clf, X_train, y_train, cv=3, scoring= f_scorer)\n",
    "    print(f'Cross val scores: {scores}')\n",
    "    print(f'Mean cross val score: {scores.mean():.4f}')\n",
    "    print('-'*40)\n",
    "\n",
    "    clf.fit(X_train, y_train)\n",
    "    y_train_preds = clf.predict(X_train)\n",
    "    y_val_preds = clf.predict(X_val)\n",
    "\n",
    "    print('Train score')\n",
    "    print_metric(y_train, y_train_preds)\n",
    "    print('-'*40)\n",
    "\n",
    "    print('Val score')\n",
    "    print_metric(y_val, y_val_preds)"
   ]
  },
  {
   "cell_type": "markdown",
   "metadata": {
    "id": "phIjID94GfSV"
   },
   "source": [
    "## Word2vec"
   ]
  },
  {
   "cell_type": "markdown",
   "metadata": {
    "id": "I_kTFzHzGfSV"
   },
   "source": [
    "Получаем вектора на основе word2vec и обучаем модель."
   ]
  },
  {
   "cell_type": "markdown",
   "metadata": {
    "id": "t-65w1CvGfSV"
   },
   "source": [
    "Скачиваем модель"
   ]
  },
  {
   "cell_type": "code",
   "execution_count": null,
   "metadata": {
    "id": "cCniCOMHGfSW"
   },
   "outputs": [],
   "source": [
    "zipFileURL = \"https://dl.fbaipublicfiles.com/fasttext/vectors-english/wiki-news-300d-1M.vec.zip\"\n",
    "resp = urllib.request.urlopen(zipFileURL)\n",
    "z_file = zipfile.ZipFile(io.BytesIO(resp.read()))"
   ]
  },
  {
   "cell_type": "code",
   "execution_count": null,
   "metadata": {
    "id": "EwSkEUJZGfSW"
   },
   "outputs": [],
   "source": [
    "os.mkdir('\\w2v\\wiki-news-300d-1M.vec')\n",
    "z_file.extractall(path = 'w2v')"
   ]
  },
  {
   "cell_type": "code",
   "execution_count": null,
   "metadata": {
    "id": "xNAn1bg3GfSW"
   },
   "outputs": [],
   "source": [
    "model = gensim.models.KeyedVectors.load_word2vec_format('w2v/wiki-news-300d-1M.vec', binary=False)"
   ]
  },
  {
   "cell_type": "markdown",
   "metadata": {
    "id": "Xh_JFWhpGfSW"
   },
   "source": [
    "Добавляем в данные столбцы с лемматизированными предложениями и со средними векторами каждого предложения"
   ]
  },
  {
   "cell_type": "code",
   "execution_count": null,
   "metadata": {
    "id": "Qh3fkkPLGfSX"
   },
   "outputs": [],
   "source": [
    "def avg_vec(words, model, num_features): # считает средний вектор\n",
    "    feature_vec = np.zeros((num_features, ), dtype='float32')\n",
    "    n_words = 0\n",
    "    for word in words:\n",
    "        if word in model:\n",
    "            n_words += 1\n",
    "            feature_vec = np.add(feature_vec, model[word])\n",
    "    if (n_words > 0):\n",
    "        feature_vec = np.divide(feature_vec, n_words)\n",
    "    return feature_vec"
   ]
  },
  {
   "cell_type": "code",
   "execution_count": null,
   "metadata": {
    "id": "1qBk81jVGfSX"
   },
   "outputs": [],
   "source": [
    "def add_avg_vec(data, sent, model): # добавляет вектора в датафрейм\n",
    "    data[f'{sent}_lemmas'] = data[sent].apply(lambda x: tokenizer.tokenize(x.lower()))\n",
    "    data[f'{sent}_avgvec'] = data[f'{sent}_lemmas'].apply(lambda x: avg_vec(x, model, 300))"
   ]
  },
  {
   "cell_type": "code",
   "execution_count": null,
   "metadata": {
    "id": "DdcRedZdGfSY"
   },
   "outputs": [],
   "source": [
    "for data in [train, val, test_matched, test_mismatched]:\n",
    "    for sent in ['sentence1', 'sentence2']:\n",
    "        add_avg_vec(data, sent, model)"
   ]
  },
  {
   "cell_type": "code",
   "execution_count": null,
   "metadata": {
    "id": "35OeKL7pGfSY"
   },
   "outputs": [],
   "source": [
    "def count_distances(data): \n",
    "    # преобразует предложения и считает расстояния(евклидово, матхэт., косинусное) между преобразованными предложениями\n",
    "    vec_1 = np.array(data['sentence1_avgvec'].tolist())\n",
    "    vec_2 = np.array(data['sentence2_avgvec'].tolist())\n",
    "    euclidean = paired_distances(vec_1, vec_2, metric='euclidean')\n",
    "    manhattan= paired_distances(vec_1, vec_2, metric='manhattan')\n",
    "    cosine = paired_distances(vec_1, vec_2, metric='cosine')\n",
    "\n",
    "    distances =  np.array([euclidean, manhattan, cosine]).T\n",
    "    return distances"
   ]
  },
  {
   "cell_type": "markdown",
   "metadata": {
    "id": "MBQoxOtsGfSZ"
   },
   "source": [
    "Считаем расстояния и обучаем модель"
   ]
  },
  {
   "cell_type": "code",
   "execution_count": null,
   "metadata": {
    "id": "4FzfZIAAGfSZ"
   },
   "outputs": [],
   "source": [
    "X_train = count_distances(train)\n",
    "y_train = np.array(train['gold_label'])\n",
    "X_val = count_distances(val)\n",
    "y_val = np.array(val['gold_label'])\n",
    "X_test1 = count_distances(test_matched)\n",
    "X_test2 = count_distances(test_mismatched)"
   ]
  },
  {
   "cell_type": "code",
   "execution_count": null,
   "metadata": {
    "colab": {
     "base_uri": "https://localhost:8080/"
    },
    "id": "eJvpvJAdGfSa",
    "outputId": "eb32063f-fd91-4505-c92c-c3920a29a98c"
   },
   "outputs": [
    {
     "name": "stdout",
     "output_type": "stream",
     "text": [
      "Cross val scores: [0.41394836 0.41378962 0.41523973]\n",
      "Mean cross val score: 0.4143\n",
      "----------------------------------------\n",
      "Train score\n",
      "0.2989   Custom f-score\n",
      "0.2403   Contradiction's recall\n",
      "0.4210   Accuracy\n",
      "               precision    recall    fscore\n",
      "contradiction   0.381902  0.240254  0.249509\n",
      "neutral         0.442148  0.345149  0.352891\n",
      "entailment      0.426161  0.677721  0.639945\n",
      "Weighted*       0.392352  0.294490  0.298890\n",
      "----------------------------------------\n",
      "Val score\n",
      "0.2991   Custom f-score\n",
      "0.2371   Contradiction's recall\n",
      "0.4371   Accuracy\n",
      "               precision    recall    fscore\n",
      "contradiction   0.387538  0.237099  0.246675\n",
      "neutral         0.459321  0.328695  0.338316\n",
      "entailment      0.445702  0.720686  0.678805\n",
      "Weighted*       0.400533  0.294617  0.299052\n"
     ]
    }
   ],
   "source": [
    "log_reg_cv_and_validation(X_train, X_val, y_train = y_train, max_itr = 500)"
   ]
  },
  {
   "cell_type": "markdown",
   "metadata": {
    "id": "dnkmCsuoGfSa"
   },
   "source": [
    "## TF-IDF"
   ]
  },
  {
   "cell_type": "markdown",
   "metadata": {
    "id": "LLwLKCKJGfSb"
   },
   "source": [
    "Считаем расстояния на основе метрики TF-IDF и обучаем модель"
   ]
  },
  {
   "cell_type": "code",
   "execution_count": null,
   "metadata": {
    "id": "gAUkQUxIGfSb"
   },
   "outputs": [],
   "source": [
    "corpus = train.sentence1 +\" \"+ train.sentence2"
   ]
  },
  {
   "cell_type": "code",
   "execution_count": null,
   "metadata": {
    "colab": {
     "base_uri": "https://localhost:8080/"
    },
    "id": "Qj7ZN4zUGfSc",
    "outputId": "bce8f0c5-c276-47da-8bed-ce6eec00800a"
   },
   "outputs": [
    {
     "name": "stdout",
     "output_type": "stream",
     "text": [
      "[nltk_data] Downloading package stopwords to /root/nltk_data...\n",
      "[nltk_data]   Unzipping corpora/stopwords.zip.\n"
     ]
    }
   ],
   "source": [
    "nltk.download('stopwords')\n",
    "stop = set(stopwords.words('english'))"
   ]
  },
  {
   "cell_type": "markdown",
   "metadata": {
    "id": "jEybH6CRGfSc"
   },
   "source": [
    "Обучаем TF-IDF"
   ]
  },
  {
   "cell_type": "code",
   "execution_count": null,
   "metadata": {
    "colab": {
     "base_uri": "https://localhost:8080/"
    },
    "id": "IdfeZnABGfSd",
    "outputId": "d94d6617-cb33-4154-c152-02876ae82603"
   },
   "outputs": [
    {
     "data": {
      "text/plain": [
       "TfidfVectorizer(analyzer='word', binary=False, decode_error='strict',\n",
       "                dtype=<class 'numpy.float64'>, encoding='utf-8',\n",
       "                input='content', lowercase=True, max_df=1.0, max_features=None,\n",
       "                min_df=1, ngram_range=(1, 1), norm='l2', preprocessor=None,\n",
       "                smooth_idf=True,\n",
       "                stop_words={'a', 'about', 'above', 'after', 'again', 'against',\n",
       "                            'ain', 'all', 'am', 'an', 'and', 'any', 'are',\n",
       "                            'aren', \"aren't\", 'as', 'at', 'be', 'because',\n",
       "                            'been', 'before', 'being', 'below', 'between',\n",
       "                            'both', 'but', 'by', 'can', 'couldn', \"couldn't\", ...},\n",
       "                strip_accents=None, sublinear_tf=False,\n",
       "                token_pattern='(?u)\\\\b\\\\w\\\\w+\\\\b', tokenizer=None, use_idf=True,\n",
       "                vocabulary=None)"
      ]
     },
     "execution_count": 23,
     "metadata": {
      "tags": []
     },
     "output_type": "execute_result"
    }
   ],
   "source": [
    "tfidf = TfidfVectorizer(stop_words=stop)\n",
    "tfidf.fit(corpus)"
   ]
  },
  {
   "cell_type": "code",
   "execution_count": null,
   "metadata": {
    "id": "IeUd923vGfSd"
   },
   "outputs": [],
   "source": [
    "def tfidf_distance(data):\n",
    "    # преобразует предложения и считает расстояния(евклидово, матхэт., косинусное) между преобразованными предложениями\n",
    "    data_sentence1 = tfidf.transform(data.sentence1)\n",
    "    data_sentence2 = tfidf.transform(data.sentence2)\n",
    "    difference = data_sentence1 - data_sentence2\n",
    "    \n",
    "    euclidean = paired_distances(data_sentence1, data_sentence2, metric='euclidean')\n",
    "    manhattan= paired_distances(data_sentence1, data_sentence2, metric='manhattan')\n",
    "    cosine = paired_distances(data_sentence1, data_sentence2, metric='cosine')\n",
    "\n",
    "    distances =  hstack((np.array([euclidean, manhattan, cosine]).T, difference))\n",
    "    return distances"
   ]
  },
  {
   "cell_type": "markdown",
   "metadata": {
    "id": "mRZxFtgmGfSe"
   },
   "source": [
    "Считаем расстояния, обучаем модель только TF-IDF"
   ]
  },
  {
   "cell_type": "code",
   "execution_count": null,
   "metadata": {
    "id": "6Lg8jYZmGfSe"
   },
   "outputs": [],
   "source": [
    "tfidf_train =  tfidf_distance(train)\n",
    "tfidf_val = tfidf_distance(val)\n",
    "tfidf_test1 = tfidf_distance(test_matched)\n",
    "tfidf_test2 = tfidf_distance(test_mismatched)"
   ]
  },
  {
   "cell_type": "code",
   "execution_count": null,
   "metadata": {
    "colab": {
     "base_uri": "https://localhost:8080/"
    },
    "id": "XSVEylGEGfSf",
    "outputId": "c9c5818a-3aa0-4ed3-d4a5-440283300faa"
   },
   "outputs": [
    {
     "name": "stdout",
     "output_type": "stream",
     "text": [
      "Cross val scores: [0.4792412  0.47753643 0.47988878]\n",
      "Mean cross val score: 0.4789\n",
      "----------------------------------------\n",
      "Train score\n",
      "0.5419   Custom f-score\n",
      "0.5195   Contradiction's recall\n",
      "0.5790   Accuracy\n",
      "               precision    recall    fscore\n",
      "contradiction   0.594572  0.519469  0.526114\n",
      "neutral         0.578971  0.584248  0.583716\n",
      "entailment      0.566900  0.633343  0.626006\n",
      "Weighted*       0.590245  0.537334  0.541864\n",
      "----------------------------------------\n",
      "Val score\n",
      "0.4733   Custom f-score\n",
      "0.4527   Contradiction's recall\n",
      "0.5116   Accuracy\n",
      "               precision    recall    fscore\n",
      "contradiction   0.508088  0.452658  0.457650\n",
      "neutral         0.492914  0.506238  0.504873\n",
      "entailment      0.530427  0.571305  0.566936\n",
      "Weighted*       0.508805  0.469880  0.473301\n"
     ]
    }
   ],
   "source": [
    "log_reg_cv_and_validation(tfidf_train, tfidf_val, y_train = y_train, max_itr = 500)"
   ]
  },
  {
   "cell_type": "markdown",
   "metadata": {
    "id": "tD1l-usUGfSf"
   },
   "source": [
    "TF-IDF + word2vec"
   ]
  },
  {
   "cell_type": "code",
   "execution_count": null,
   "metadata": {
    "id": "6YzK4xBkGfSg"
   },
   "outputs": [],
   "source": [
    "X_train = hstack((X_train, tfidf_train))\n",
    "X_val = hstack((X_val, tfidf_val))\n",
    "X_test1 = hstack((X_test1, tfidf_test1))\n",
    "X_test2 = hstack((X_test2, tfidf_test2))"
   ]
  },
  {
   "cell_type": "code",
   "execution_count": null,
   "metadata": {
    "colab": {
     "base_uri": "https://localhost:8080/"
    },
    "id": "iJnpylmyGfSg",
    "outputId": "3363b6aa-6f5d-438f-a110-830770b65d58"
   },
   "outputs": [
    {
     "name": "stderr",
     "output_type": "stream",
     "text": [
      "/usr/local/lib/python3.7/dist-packages/sklearn/linear_model/_sag.py:330: ConvergenceWarning: The max_iter was reached which means the coef_ did not converge\n",
      "  \"the coef_ did not converge\", ConvergenceWarning)\n",
      "/usr/local/lib/python3.7/dist-packages/sklearn/linear_model/_sag.py:330: ConvergenceWarning: The max_iter was reached which means the coef_ did not converge\n",
      "  \"the coef_ did not converge\", ConvergenceWarning)\n",
      "/usr/local/lib/python3.7/dist-packages/sklearn/linear_model/_sag.py:330: ConvergenceWarning: The max_iter was reached which means the coef_ did not converge\n",
      "  \"the coef_ did not converge\", ConvergenceWarning)\n"
     ]
    },
    {
     "name": "stdout",
     "output_type": "stream",
     "text": [
      "Cross val scores: [0.49718565 0.49643292 0.49874039]\n",
      "Mean cross val score: 0.4975\n",
      "----------------------------------------\n"
     ]
    },
    {
     "name": "stderr",
     "output_type": "stream",
     "text": [
      "/usr/local/lib/python3.7/dist-packages/sklearn/linear_model/_sag.py:330: ConvergenceWarning: The max_iter was reached which means the coef_ did not converge\n",
      "  \"the coef_ did not converge\", ConvergenceWarning)\n"
     ]
    },
    {
     "name": "stdout",
     "output_type": "stream",
     "text": [
      "Train score\n",
      "0.5291   Custom f-score\n",
      "0.5049   Contradiction's recall\n",
      "0.5703   Accuracy\n",
      "               precision    recall    fscore\n",
      "contradiction   0.582279  0.504885  0.511686\n",
      "neutral         0.569149  0.569366  0.569344\n",
      "entailment      0.562092  0.636590  0.628263\n",
      "Weighted*       0.578947  0.524504  0.529110\n",
      "----------------------------------------\n",
      "Val score\n",
      "0.4761   Custom f-score\n",
      "0.4520   Contradiction's recall\n",
      "0.5219   Accuracy\n",
      "               precision    recall    fscore\n",
      "contradiction   0.516375  0.452038  0.457741\n",
      "neutral         0.500880  0.500480  0.500520\n",
      "entailment      0.542769  0.606021  0.599040\n",
      "Weighted*       0.517465  0.472280  0.476149\n"
     ]
    }
   ],
   "source": [
    "log_reg_cv_and_validation(X_train, X_val, y_train = y_train, max_itr = 500)"
   ]
  },
  {
   "cell_type": "markdown",
   "metadata": {
    "id": "SlynitnOGfSg"
   },
   "source": [
    "## Синтаксис"
   ]
  },
  {
   "cell_type": "markdown",
   "metadata": {
    "id": "74LWLilqGfSh"
   },
   "source": [
    "Считаем расстояния на основе представлений graph2vec и обучаем модель"
   ]
  },
  {
   "cell_type": "code",
   "execution_count": null,
   "metadata": {
    "id": "u4cF-aHRGfSh"
   },
   "outputs": [],
   "source": [
    "def read_csv_link(response): # читает вектора graph2vec из csv-файла\n",
    "    spamreader = csv.reader(response)\n",
    "    vectors = []\n",
    "    i = 0\n",
    "    for row in spamreader:\n",
    "        if i == 0:\n",
    "            i += 1\n",
    "            continue\n",
    "        row = [float(el) for el in row[1:]]\n",
    "        vectors.append(row)\n",
    "    return vectors"
   ]
  },
  {
   "cell_type": "code",
   "execution_count": null,
   "metadata": {
    "id": "KwWnoHTBGfSi"
   },
   "outputs": [],
   "source": [
    "def count_distances_link(file1, file2): # считает расстояния между векторами\n",
    "    vectors_1 = read_csv_link(file1)\n",
    "    vectors_2 = read_csv_link(file2)\n",
    "    vectors_1 = np.array([np.array(vectors_1[i]) for i in range(len(vectors_1))])\n",
    "    vectors_2 = np.array([np.array(vectors_2[i]) for i in range(len(vectors_2))])\n",
    "    dist_1 = vectors_1 - vectors_2\n",
    "    \n",
    "    euclidean = paired_distances(vectors_1, vectors_2, metric='euclidean')\n",
    "    manhattan= paired_distances(vectors_1, vectors_2, metric='manhattan')\n",
    "    cosine = paired_distances(vectors_1, vectors_2, metric='cosine')\n",
    "\n",
    "    distances =  np.array([euclidean, manhattan, cosine]).T\n",
    "    return distances"
   ]
  },
  {
   "cell_type": "markdown",
   "metadata": {
    "id": "FpvqSDSHGfSi"
   },
   "source": [
    "Скачиваем файлы с гитхаба (файлы подготовлены через модуль graph2vec отдельно, так как включение кода в данный файл нерационально)"
   ]
  },
  {
   "cell_type": "code",
   "execution_count": null,
   "metadata": {
    "id": "XLCk__--GfSj"
   },
   "outputs": [],
   "source": [
    "response_val_1_1 = urllib.request.urlopen('https://raw.githubusercontent.com/ulianakazak/Bigutochki/main/val_1_1.csv')\n",
    "response_val_2_1 = urllib.request.urlopen('https://raw.githubusercontent.com/ulianakazak/Bigutochki/main/val_2_1.csv')\n",
    "response_val_1_2 = urllib.request.urlopen('https://raw.githubusercontent.com/ulianakazak/Bigutochki/main/val_1_2.csv')\n",
    "response_val_2_2 = urllib.request.urlopen('https://raw.githubusercontent.com/ulianakazak/Bigutochki/main/val_2_2.csv')\n",
    "response_test_1_1 = urllib.request.urlopen('https://raw.githubusercontent.com/ulianakazak/Bigutochki/main/test_1_1.csv')\n",
    "response_test_2_1 = urllib.request.urlopen('https://raw.githubusercontent.com/ulianakazak/Bigutochki/main/test_2_1.csv')\n",
    "response_test_1_2 = urllib.request.urlopen('https://raw.githubusercontent.com/ulianakazak/Bigutochki/main/test_1_2.csv')\n",
    "response_test_2_2 = urllib.request.urlopen('https://raw.githubusercontent.com/ulianakazak/Bigutochki/main/test_2_2.csv')\n",
    "\n",
    "X_val_1 = count_distances_link(io.TextIOWrapper(response_val_1_1), io.TextIOWrapper(response_val_2_1))\n",
    "X_val_2 = count_distances_link(io.TextIOWrapper(response_val_1_2), io.TextIOWrapper(response_val_2_2))\n",
    "semantic_val = np.vstack((X_val_1, X_val_2))\n",
    "\n",
    "X_test_1 = count_distances_link(io.TextIOWrapper(response_test_1_1), io.TextIOWrapper(response_test_2_1))\n",
    "X_test_2 = count_distances_link(io.TextIOWrapper(response_test_1_2), io.TextIOWrapper(response_test_2_2))\n",
    "semantic_test = np.vstack((X_test_1, X_test_2))"
   ]
  },
  {
   "cell_type": "code",
   "execution_count": null,
   "metadata": {
    "id": "NfMP6lGoGfSk"
   },
   "outputs": [],
   "source": [
    "response_1 = urllib.request.urlopen('https://raw.githubusercontent.com/ulianakazak/Bigutochki/main/data_syntax/train_1_0.csv')\n",
    "response_2 = urllib.request.urlopen('https://raw.githubusercontent.com/ulianakazak/Bigutochki/main/data_syntax/train_2_0.csv')\n",
    "semantic_train = count_distances_link(io.TextIOWrapper(response_1), io.TextIOWrapper(response_2))\n",
    "for i in range(1, 69):\n",
    "    response_1 = urllib.request.urlopen(f'https://raw.githubusercontent.com/ulianakazak/Bigutochki/main/data_syntax/train_1_{i}.csv')\n",
    "    response_2 = urllib.request.urlopen(f'https://raw.githubusercontent.com/ulianakazak/Bigutochki/main/data_syntax/train_2_{i}.csv')\n",
    "    X = count_distances_link(io.TextIOWrapper(response_1), io.TextIOWrapper(response_2))\n",
    "    semantic_train = np.vstack((semantic_train, X))"
   ]
  },
  {
   "cell_type": "code",
   "execution_count": null,
   "metadata": {
    "id": "zoX8J0DcGfSm"
   },
   "outputs": [],
   "source": [
    "def delete_unsure_labels_vec(X, data):\n",
    "    X = X[data.index]\n",
    "    return X"
   ]
  },
  {
   "cell_type": "markdown",
   "metadata": {
    "id": "RswSSIPkGfSm"
   },
   "source": [
    "Обучаем модель, только для синтаксиса"
   ]
  },
  {
   "cell_type": "code",
   "execution_count": null,
   "metadata": {
    "id": "OO3Gv6wsGfSm"
   },
   "outputs": [],
   "source": [
    "semantic_train = delete_unsure_labels_vec(semantic_train, train)\n",
    "semantic_val = delete_unsure_labels_vec(semantic_val, val)"
   ]
  },
  {
   "cell_type": "code",
   "execution_count": null,
   "metadata": {
    "colab": {
     "base_uri": "https://localhost:8080/"
    },
    "id": "DU3pr-ASGfSn",
    "outputId": "2d6a8743-9c75-4b35-ef03-7bad47bb4c1a"
   },
   "outputs": [
    {
     "name": "stdout",
     "output_type": "stream",
     "text": [
      "Cross val scores: [0.32545514 0.32853169 0.33127668]\n",
      "Mean cross val score: 0.3284\n",
      "----------------------------------------\n",
      "Train score\n",
      "0.2664   Custom f-score\n",
      "0.2301   Contradiction's recall\n",
      "0.3351   Accuracy\n",
      "               precision    recall    fscore\n",
      "contradiction   0.335677  0.230102  0.237574\n",
      "neutral         0.335460  0.413736  0.404302\n",
      "entailment      0.334454  0.361607  0.358695\n",
      "Weighted*       0.335533  0.261616  0.266359\n",
      "----------------------------------------\n",
      "Val score\n",
      "0.1783   Custom f-score\n",
      "0.1204   Contradiction's recall\n",
      "0.3205   Accuracy\n",
      "               precision    recall    fscore\n",
      "contradiction   0.336364  0.120409  0.128670\n",
      "neutral         0.318288  0.873001  0.743435\n",
      "entailment      0.322751  0.008787  0.009734\n",
      "Weighted*       0.333195  0.184506  0.178253\n"
     ]
    }
   ],
   "source": [
    "log_reg_cv_and_validation(semantic_train, semantic_val, y_train = y_train, max_itr = 500)"
   ]
  },
  {
   "cell_type": "markdown",
   "metadata": {
    "id": "ODAKj1iJGfSn"
   },
   "source": [
    "Синтаксис + TF-IDF + word2vec"
   ]
  },
  {
   "cell_type": "code",
   "execution_count": null,
   "metadata": {
    "id": "u_W9l9EwGfSo"
   },
   "outputs": [],
   "source": [
    "X_train_all = hstack((X_train, semantic_train))\n",
    "X_val_all = hstack((X_val, semantic_val))"
   ]
  },
  {
   "cell_type": "code",
   "execution_count": null,
   "metadata": {
    "colab": {
     "base_uri": "https://localhost:8080/"
    },
    "id": "cql_saYEGfSo",
    "outputId": "ad4124d8-5627-42fb-a1da-6f6c7128cb0d"
   },
   "outputs": [
    {
     "name": "stderr",
     "output_type": "stream",
     "text": [
      "/usr/local/lib/python3.7/dist-packages/sklearn/linear_model/_sag.py:330: ConvergenceWarning: The max_iter was reached which means the coef_ did not converge\n",
      "  \"the coef_ did not converge\", ConvergenceWarning)\n",
      "/usr/local/lib/python3.7/dist-packages/sklearn/linear_model/_sag.py:330: ConvergenceWarning: The max_iter was reached which means the coef_ did not converge\n",
      "  \"the coef_ did not converge\", ConvergenceWarning)\n"
     ]
    }
   ],
   "source": [
    "log_reg_cv_and_validation(X_train_all, X_val_all, y_train = y_train, max_itr = 500)"
   ]
  },
  {
   "cell_type": "markdown",
   "metadata": {
    "id": "tYVfR_OtrO-V"
   },
   "source": [
    "\n",
    "## RoBERTa"
   ]
  },
  {
   "cell_type": "markdown",
   "metadata": {
    "id": "d4qYd7j1LkvG"
   },
   "source": [
    "Скачиваем и запускаем Роберту"
   ]
  },
  {
   "cell_type": "code",
   "execution_count": null,
   "metadata": {
    "id": "c5aeMoeoISgm"
   },
   "outputs": [],
   "source": [
    "import torch \n",
    "roberta = torch.hub.load('pytorch/fairseq', 'roberta.large')"
   ]
  },
  {
   "cell_type": "markdown",
   "metadata": {
    "id": "omdQ2DFeLp_C"
   },
   "source": [
    "Следующие две ячейки получают признаки напрямую из роберты. \n",
    "Этот процесс не быстрый, поэтому мы добавили их в отдельный csv файл. "
   ]
  },
  {
   "cell_type": "code",
   "execution_count": null,
   "metadata": {
    "id": "wIcKjhI7womV"
   },
   "outputs": [],
   "source": [
    "# delete this\n",
    "def get_layers(data):\n",
    "    sents = data.sentence1 + ' ' + data.sentence2\n",
    "    layers = np.array(sents.apply(lambda x: np.mean(np.array(roberta.extract_features(roberta.encode(x)).tolist())[0], axis=0)).tolist())\n",
    "    return layers"
   ]
  },
  {
   "cell_type": "code",
   "execution_count": null,
   "metadata": {
    "id": "v6Dw0qecwu9a"
   },
   "outputs": [],
   "source": [
    "# delete this\n",
    "X_train_roBERTa = get_layers(train[300000:])\n",
    "X_val_roBERTa = get_layers(val)"
   ]
  },
  {
   "cell_type": "markdown",
   "metadata": {
    "id": "6gVvAN-sMW7q"
   },
   "source": [
    "Далее считываем вышеупомянутый csv файл"
   ]
  },
  {
   "cell_type": "code",
   "execution_count": null,
   "metadata": {
    "id": "heJPE42Cdsre"
   },
   "outputs": [],
   "source": [
    "def get_features_csv(filename):\n",
    "    with open(filename, newline='') as csvfile:\n",
    "        spamreader = csv.reader(csvfile)\n",
    "        X = []\n",
    "        for row in spamreader:\n",
    "            row = [float(el) for el in row]\n",
    "            X.append(row)\n",
    "        X = np.array([np.array(X[i]) for i in range(len(X))])\n",
    "        return X"
   ]
  },
  {
   "cell_type": "code",
   "execution_count": null,
   "metadata": {
    "id": "StN1fKTReD87"
   },
   "outputs": [],
   "source": [
    "X_train_roBERTa = get_features_csv('train.csv')\n",
    "X_val_roBERTa = get_features_csv('val.csv')"
   ]
  },
  {
   "cell_type": "markdown",
   "metadata": {
    "id": "_g1bJ-MbO4qb"
   },
   "source": [
    "Обучаем модель с полученными признаками (была взята не вся train выборка, так как Роберта работает очень продолжительное время, но результаты увеличились)"
   ]
  },
  {
   "cell_type": "code",
   "execution_count": null,
   "metadata": {
    "colab": {
     "base_uri": "https://localhost:8080/"
    },
    "id": "z1ODcRvnxNFk",
    "outputId": "250ae130-cf0a-4ee9-d2aa-da3faa46b628"
   },
   "outputs": [
    {
     "name": "stdout",
     "output_type": "stream",
     "text": [
      "Cross val scores: [0.59709582 0.59821956 0.59702334]\n",
      "Mean cross val score: 0.5974\n",
      "----------------------------------------\n",
      "Train score\n",
      "0.6473   Custom f-score\n",
      "0.6618   Contradiction's recall\n",
      "0.6160   Accuracy\n",
      "               precision    recall    fscore\n",
      "contradiction   0.651265  0.661785  0.660718\n",
      "neutral         0.585651  0.613142  0.610278\n",
      "entailment      0.616140  0.572478  0.576563\n",
      "Weighted*       0.641191  0.647990  0.647258\n",
      "----------------------------------------\n",
      "Val score\n",
      "0.6474   Custom f-score\n",
      "0.6650   Contradiction's recall\n",
      "0.6063   Accuracy\n",
      "               precision    recall    fscore\n",
      "contradiction   0.664447  0.664962  0.664911\n",
      "neutral         0.522558  0.572457  0.567042\n",
      "entailment      0.637539  0.582253  0.587346\n",
      "Weighted*       0.647568  0.647441  0.647367\n"
     ]
    }
   ],
   "source": [
    "log_reg_cv_and_validation(X_train_roBERTa, X_val_roBERTa, y_train = y_train[300000:], max_itr = 500)"
   ]
  },
  {
   "cell_type": "markdown",
   "metadata": {
    "id": "RXtjSxerNF9a"
   },
   "source": [
    "Синтаксис + TF-IDF + word2vec + RoBERTa"
   ]
  },
  {
   "cell_type": "code",
   "execution_count": null,
   "metadata": {
    "id": "LCxruXq3NVcR"
   },
   "outputs": [],
   "source": [
    "X_train_ro = count_distances(train[300000:])\n",
    "tfidf_train_ro =  tfidf_distance(train[300000:])\n",
    "X_train_ro = hstack((X_train_ro, tfidf_train_ro))\n",
    "semantic_train_ro = semantic_train[300000:]\n",
    "X_train_all_ro = hstack((X_train_ro, semantic_train_ro))\n",
    "X_train_ro = hstack((X_train_all_ro, X_train_roBERTa))\n",
    "X_val_ro = hstack((X_val_all, X_val_roBERTa))"
   ]
  },
  {
   "cell_type": "code",
   "execution_count": null,
   "metadata": {
    "id": "1nyttpXcSx_G"
   },
   "outputs": [],
   "source": [
    "X_train_ro = hstack((X_train_all_ro, X_train_roBERTa))\n",
    "X_val_ro = hstack((X_val_all, X_val_roBERTa))"
   ]
  },
  {
   "cell_type": "code",
   "execution_count": null,
   "metadata": {
    "id": "0Xp7-0zJSztq"
   },
   "outputs": [],
   "source": [
    "log_reg_cv_and_validation(X_train_ro, X_val_ro, y_train = y_train[300000:], max_itr = 500)"
   ]
  },
  {
   "cell_type": "markdown",
   "metadata": {
    "id": "6cMLMOw3GfSp"
   },
   "source": [
    "## Fine-Tuning"
   ]
  },
  {
   "cell_type": "markdown",
   "metadata": {
    "id": "L0czy_0xGfSp"
   },
   "source": [
    "Подбор итоговых параметров модели (запускается только один раз, снять комментарий для проверки)"
   ]
  },
  {
   "cell_type": "code",
   "execution_count": null,
   "metadata": {
    "id": "bkj7fGLRU49Z"
   },
   "outputs": [],
   "source": [
    "param_grid = {'penalty' : ['l2', 'none'], \n",
    "              'C': [0.1, 1., 3., 10],\n",
    "              'solver': ['sag', 'saga', 'newton-cg'],}\n",
    "model = LogisticRegression(random_state=1, max_iter=500)\n",
    "grid_classifier = GridSearchCV(model, param_grid, cv=3, scoring=f_scorer, return_train_score=True)\n",
    "grid_classifier.fit(X_train, y_train)\n",
    "results = pd.DataFrame(grid_classifier.cv_results_)\n",
    "best = np.argmax(results.mean_test_score.values)"
   ]
  },
  {
   "cell_type": "code",
   "execution_count": null,
   "metadata": {
    "id": "SVX_bxsPGfSq"
   },
   "outputs": [],
   "source": [
    "results_file = results.to_csv('results_file.csv')"
   ]
  },
  {
   "cell_type": "code",
   "execution_count": null,
   "metadata": {
    "id": "aAeuT1vgW5ux"
   },
   "outputs": [],
   "source": [
    "# убрать дубликаты\n",
    "clean_saga_results = saga_results.drop(index = [3,5,7]).sort_values(by=['mean_test_score'], ascending = False)\n",
    "clean_saga_results['rank_test_score'] = clean_saga_results['mean_test_score'].rank(ascending = False)\n",
    "clean_saga_results.loc[1, 'param_C'] = None\n",
    "clean_saga_results.loc[1, 'params'] = \"{'C': none, 'penalty': 'none'}\"\n",
    "clean_saga_results\n",
    "\n",
    "saga_results_file = saga_results.to_csv('saga_results_file.csv')\n",
    "clean_saga_results_file = clean_saga_results.to_csv('clean_saga_results_file.csv')"
   ]
  },
  {
   "cell_type": "markdown",
   "metadata": {
    "id": "wY_P3yTjGfSq"
   },
   "source": [
    "### Results"
   ]
  },
  {
   "cell_type": "markdown",
   "metadata": {
    "id": "e3CgtjBnGfSr"
   },
   "source": [
    "Результаты fine-tuning, файлы получены из отдельных запусков для каждого солвера"
   ]
  },
  {
   "cell_type": "markdown",
   "metadata": {
    "id": "Geqv6Lf9GfSr"
   },
   "source": [
    "#### Saga"
   ]
  },
  {
   "cell_type": "code",
   "execution_count": null,
   "metadata": {
    "colab": {
     "base_uri": "https://localhost:8080/",
     "height": 428
    },
    "id": "aC6qzhd4GfSr",
    "outputId": "1282fcfb-80bc-4490-cdb9-6f248c2e6ead"
   },
   "outputs": [
    {
     "data": {
      "text/html": [
       "<div>\n",
       "<style scoped>\n",
       "    .dataframe tbody tr th:only-of-type {\n",
       "        vertical-align: middle;\n",
       "    }\n",
       "\n",
       "    .dataframe tbody tr th {\n",
       "        vertical-align: top;\n",
       "    }\n",
       "\n",
       "    .dataframe thead th {\n",
       "        text-align: right;\n",
       "    }\n",
       "</style>\n",
       "<table border=\"1\" class=\"dataframe\">\n",
       "  <thead>\n",
       "    <tr style=\"text-align: right;\">\n",
       "      <th></th>\n",
       "      <th>Unnamed: 0</th>\n",
       "      <th>mean_fit_time</th>\n",
       "      <th>std_fit_time</th>\n",
       "      <th>mean_score_time</th>\n",
       "      <th>std_score_time</th>\n",
       "      <th>param_C</th>\n",
       "      <th>param_penalty</th>\n",
       "      <th>params</th>\n",
       "      <th>split0_test_score</th>\n",
       "      <th>split1_test_score</th>\n",
       "      <th>split2_test_score</th>\n",
       "      <th>mean_test_score</th>\n",
       "      <th>std_test_score</th>\n",
       "      <th>rank_test_score</th>\n",
       "      <th>split0_train_score</th>\n",
       "      <th>split1_train_score</th>\n",
       "      <th>split2_train_score</th>\n",
       "      <th>mean_train_score</th>\n",
       "      <th>std_train_score</th>\n",
       "    </tr>\n",
       "  </thead>\n",
       "  <tbody>\n",
       "    <tr>\n",
       "      <th>0</th>\n",
       "      <td>0</td>\n",
       "      <td>284.260808</td>\n",
       "      <td>12.558971</td>\n",
       "      <td>2.368633</td>\n",
       "      <td>0.061373</td>\n",
       "      <td>0.1</td>\n",
       "      <td>l2</td>\n",
       "      <td>{'C': 0.1, 'penalty': 'l2'}</td>\n",
       "      <td>0.506148</td>\n",
       "      <td>0.504244</td>\n",
       "      <td>0.507120</td>\n",
       "      <td>0.505837</td>\n",
       "      <td>0.001195</td>\n",
       "      <td>1.0</td>\n",
       "      <td>0.548511</td>\n",
       "      <td>0.548606</td>\n",
       "      <td>0.547910</td>\n",
       "      <td>0.548343</td>\n",
       "      <td>0.000308</td>\n",
       "    </tr>\n",
       "    <tr>\n",
       "      <th>1</th>\n",
       "      <td>2</td>\n",
       "      <td>267.046712</td>\n",
       "      <td>26.655339</td>\n",
       "      <td>2.073974</td>\n",
       "      <td>0.153263</td>\n",
       "      <td>1.0</td>\n",
       "      <td>l2</td>\n",
       "      <td>{'C': 1.0, 'penalty': 'l2'}</td>\n",
       "      <td>0.497239</td>\n",
       "      <td>0.496417</td>\n",
       "      <td>0.498741</td>\n",
       "      <td>0.497466</td>\n",
       "      <td>0.000962</td>\n",
       "      <td>2.0</td>\n",
       "      <td>0.582710</td>\n",
       "      <td>0.581670</td>\n",
       "      <td>0.581109</td>\n",
       "      <td>0.581830</td>\n",
       "      <td>0.000664</td>\n",
       "    </tr>\n",
       "    <tr>\n",
       "      <th>2</th>\n",
       "      <td>4</td>\n",
       "      <td>245.897852</td>\n",
       "      <td>22.765633</td>\n",
       "      <td>2.067715</td>\n",
       "      <td>0.155344</td>\n",
       "      <td>3.0</td>\n",
       "      <td>l2</td>\n",
       "      <td>{'C': 3.0, 'penalty': 'l2'}</td>\n",
       "      <td>0.494579</td>\n",
       "      <td>0.494557</td>\n",
       "      <td>0.496148</td>\n",
       "      <td>0.495095</td>\n",
       "      <td>0.000745</td>\n",
       "      <td>3.0</td>\n",
       "      <td>0.587581</td>\n",
       "      <td>0.585665</td>\n",
       "      <td>0.585110</td>\n",
       "      <td>0.586118</td>\n",
       "      <td>0.001059</td>\n",
       "    </tr>\n",
       "    <tr>\n",
       "      <th>3</th>\n",
       "      <td>6</td>\n",
       "      <td>228.336272</td>\n",
       "      <td>6.234181</td>\n",
       "      <td>1.930342</td>\n",
       "      <td>0.013417</td>\n",
       "      <td>10.0</td>\n",
       "      <td>l2</td>\n",
       "      <td>{'C': 10, 'penalty': 'l2'}</td>\n",
       "      <td>0.493539</td>\n",
       "      <td>0.493903</td>\n",
       "      <td>0.495351</td>\n",
       "      <td>0.494264</td>\n",
       "      <td>0.000783</td>\n",
       "      <td>4.0</td>\n",
       "      <td>0.589216</td>\n",
       "      <td>0.586849</td>\n",
       "      <td>0.586435</td>\n",
       "      <td>0.587500</td>\n",
       "      <td>0.001225</td>\n",
       "    </tr>\n",
       "    <tr>\n",
       "      <th>4</th>\n",
       "      <td>1</td>\n",
       "      <td>262.418630</td>\n",
       "      <td>11.394667</td>\n",
       "      <td>2.184793</td>\n",
       "      <td>0.195861</td>\n",
       "      <td>NaN</td>\n",
       "      <td>none</td>\n",
       "      <td>{'C': none, 'penalty': 'none'}</td>\n",
       "      <td>0.492909</td>\n",
       "      <td>0.493518</td>\n",
       "      <td>0.495114</td>\n",
       "      <td>0.493847</td>\n",
       "      <td>0.000930</td>\n",
       "      <td>5.0</td>\n",
       "      <td>0.589919</td>\n",
       "      <td>0.587540</td>\n",
       "      <td>0.587289</td>\n",
       "      <td>0.588249</td>\n",
       "      <td>0.001185</td>\n",
       "    </tr>\n",
       "  </tbody>\n",
       "</table>\n",
       "</div>"
      ],
      "text/plain": [
       "   Unnamed: 0  mean_fit_time  ...  mean_train_score  std_train_score\n",
       "0           0     284.260808  ...          0.548343         0.000308\n",
       "1           2     267.046712  ...          0.581830         0.000664\n",
       "2           4     245.897852  ...          0.586118         0.001059\n",
       "3           6     228.336272  ...          0.587500         0.001225\n",
       "4           1     262.418630  ...          0.588249         0.001185\n",
       "\n",
       "[5 rows x 19 columns]"
      ]
     },
     "execution_count": 42,
     "metadata": {
      "tags": []
     },
     "output_type": "execute_result"
    }
   ],
   "source": [
    "saga = pd.read_csv('clean_saga_results_file.csv')\n",
    "saga"
   ]
  },
  {
   "cell_type": "code",
   "execution_count": null,
   "metadata": {
    "id": "oNPUAkjkGfSs"
   },
   "outputs": [],
   "source": [
    "y1_train = list(saga['mean_train_score'])\n",
    "x1_train = [1 / i for i in list(saga['param_C'])]\n",
    "x1_train[4] = 0\n",
    "y1_test = list(saga['mean_test_score'])\n",
    "x1_test = [1 / i for i in list(saga['param_C'])]\n",
    "x1_test[4] = 0"
   ]
  },
  {
   "cell_type": "code",
   "execution_count": null,
   "metadata": {
    "colab": {
     "base_uri": "https://localhost:8080/",
     "height": 295
    },
    "id": "2nvraMTzGfSs",
    "outputId": "753ee278-3b7f-48ae-ef1b-00d3f8179d10"
   },
   "outputs": [
    {
     "data": {
      "image/png": "[encoded data removed]",
      "text/plain": [
       "<Figure size 432x288 with 1 Axes>"
      ]
     },
     "metadata": {
      "needs_background": "light",
      "tags": []
     },
     "output_type": "display_data"
    }
   ],
   "source": [
    "plt.scatter(x1_test, y1_test, label='test', color='red')\n",
    "plt.scatter(x1_train, y1_train, label='train', color='blue')\n",
    "plt.title('Train and test scores with different λ-parameters')\n",
    "plt.ylabel('Score')\n",
    "plt.xlabel('λ parameter')\n",
    "plt.legend(loc='best')\n",
    "plt.show()"
   ]
  },
  {
   "cell_type": "markdown",
   "metadata": {
    "id": "v8q_3qFbGfSu"
   },
   "source": [
    "#### Sag"
   ]
  },
  {
   "cell_type": "code",
   "execution_count": null,
   "metadata": {
    "colab": {
     "base_uri": "https://localhost:8080/",
     "height": 428
    },
    "id": "fr6-0Dv2GfSu",
    "outputId": "93aa5a82-aa8e-4ecb-c4bd-d2cda41e1121"
   },
   "outputs": [
    {
     "data": {
      "text/html": [
       "<div>\n",
       "<style scoped>\n",
       "    .dataframe tbody tr th:only-of-type {\n",
       "        vertical-align: middle;\n",
       "    }\n",
       "\n",
       "    .dataframe tbody tr th {\n",
       "        vertical-align: top;\n",
       "    }\n",
       "\n",
       "    .dataframe thead th {\n",
       "        text-align: right;\n",
       "    }\n",
       "</style>\n",
       "<table border=\"1\" class=\"dataframe\">\n",
       "  <thead>\n",
       "    <tr style=\"text-align: right;\">\n",
       "      <th></th>\n",
       "      <th>Unnamed: 0</th>\n",
       "      <th>mean_fit_time</th>\n",
       "      <th>std_fit_time</th>\n",
       "      <th>mean_score_time</th>\n",
       "      <th>std_score_time</th>\n",
       "      <th>param_C</th>\n",
       "      <th>param_penalty</th>\n",
       "      <th>params</th>\n",
       "      <th>split0_test_score</th>\n",
       "      <th>split1_test_score</th>\n",
       "      <th>split2_test_score</th>\n",
       "      <th>mean_test_score</th>\n",
       "      <th>std_test_score</th>\n",
       "      <th>rank_test_score</th>\n",
       "      <th>split0_train_score</th>\n",
       "      <th>split1_train_score</th>\n",
       "      <th>split2_train_score</th>\n",
       "      <th>mean_train_score</th>\n",
       "      <th>std_train_score</th>\n",
       "    </tr>\n",
       "  </thead>\n",
       "  <tbody>\n",
       "    <tr>\n",
       "      <th>0</th>\n",
       "      <td>0</td>\n",
       "      <td>228.592127</td>\n",
       "      <td>46.722717</td>\n",
       "      <td>2.291868</td>\n",
       "      <td>0.489337</td>\n",
       "      <td>0.1</td>\n",
       "      <td>l2</td>\n",
       "      <td>{'C': 0.1, 'penalty': 'l2'}</td>\n",
       "      <td>0.503603</td>\n",
       "      <td>0.502107</td>\n",
       "      <td>0.505107</td>\n",
       "      <td>0.503606</td>\n",
       "      <td>0.001225</td>\n",
       "      <td>1.0</td>\n",
       "      <td>0.563306</td>\n",
       "      <td>0.563723</td>\n",
       "      <td>0.563255</td>\n",
       "      <td>0.563428</td>\n",
       "      <td>0.000209</td>\n",
       "    </tr>\n",
       "    <tr>\n",
       "      <th>1</th>\n",
       "      <td>2</td>\n",
       "      <td>208.670107</td>\n",
       "      <td>1.214861</td>\n",
       "      <td>1.280611</td>\n",
       "      <td>0.003612</td>\n",
       "      <td>1.0</td>\n",
       "      <td>l2</td>\n",
       "      <td>{'C': 1.0, 'penalty': 'l2'}</td>\n",
       "      <td>0.483471</td>\n",
       "      <td>0.482989</td>\n",
       "      <td>0.484425</td>\n",
       "      <td>0.483628</td>\n",
       "      <td>0.000597</td>\n",
       "      <td>2.0</td>\n",
       "      <td>0.613948</td>\n",
       "      <td>0.613824</td>\n",
       "      <td>0.613385</td>\n",
       "      <td>0.613719</td>\n",
       "      <td>0.000241</td>\n",
       "    </tr>\n",
       "    <tr>\n",
       "      <th>2</th>\n",
       "      <td>4</td>\n",
       "      <td>213.306917</td>\n",
       "      <td>3.393099</td>\n",
       "      <td>1.318528</td>\n",
       "      <td>0.015357</td>\n",
       "      <td>3.0</td>\n",
       "      <td>l2</td>\n",
       "      <td>{'C': 3.0, 'penalty': 'l2'}</td>\n",
       "      <td>0.476582</td>\n",
       "      <td>0.476699</td>\n",
       "      <td>0.477925</td>\n",
       "      <td>0.477069</td>\n",
       "      <td>0.000607</td>\n",
       "      <td>3.0</td>\n",
       "      <td>0.623230</td>\n",
       "      <td>0.622659</td>\n",
       "      <td>0.621706</td>\n",
       "      <td>0.622532</td>\n",
       "      <td>0.000629</td>\n",
       "    </tr>\n",
       "    <tr>\n",
       "      <th>3</th>\n",
       "      <td>6</td>\n",
       "      <td>209.091813</td>\n",
       "      <td>1.012354</td>\n",
       "      <td>1.269711</td>\n",
       "      <td>0.004515</td>\n",
       "      <td>10.0</td>\n",
       "      <td>l2</td>\n",
       "      <td>{'C': 10, 'penalty': 'l2'}</td>\n",
       "      <td>0.474056</td>\n",
       "      <td>0.474026</td>\n",
       "      <td>0.475766</td>\n",
       "      <td>0.474616</td>\n",
       "      <td>0.000813</td>\n",
       "      <td>4.0</td>\n",
       "      <td>0.626835</td>\n",
       "      <td>0.625775</td>\n",
       "      <td>0.624912</td>\n",
       "      <td>0.625840</td>\n",
       "      <td>0.000786</td>\n",
       "    </tr>\n",
       "    <tr>\n",
       "      <th>4</th>\n",
       "      <td>1</td>\n",
       "      <td>216.252013</td>\n",
       "      <td>9.936686</td>\n",
       "      <td>1.296514</td>\n",
       "      <td>0.014646</td>\n",
       "      <td>NaN</td>\n",
       "      <td>none</td>\n",
       "      <td>{'C': none, 'penalty': 'none'}</td>\n",
       "      <td>0.472945</td>\n",
       "      <td>0.472565</td>\n",
       "      <td>0.474369</td>\n",
       "      <td>0.473293</td>\n",
       "      <td>0.000776</td>\n",
       "      <td>5.0</td>\n",
       "      <td>0.628295</td>\n",
       "      <td>0.627083</td>\n",
       "      <td>0.626267</td>\n",
       "      <td>0.627215</td>\n",
       "      <td>0.000833</td>\n",
       "    </tr>\n",
       "  </tbody>\n",
       "</table>\n",
       "</div>"
      ],
      "text/plain": [
       "   Unnamed: 0  mean_fit_time  ...  mean_train_score  std_train_score\n",
       "0           0     228.592127  ...          0.563428         0.000209\n",
       "1           2     208.670107  ...          0.613719         0.000241\n",
       "2           4     213.306917  ...          0.622532         0.000629\n",
       "3           6     209.091813  ...          0.625840         0.000786\n",
       "4           1     216.252013  ...          0.627215         0.000833\n",
       "\n",
       "[5 rows x 19 columns]"
      ]
     },
     "execution_count": 47,
     "metadata": {
      "tags": []
     },
     "output_type": "execute_result"
    }
   ],
   "source": [
    "sag = pd.read_csv('clean_sag_results_file.csv')\n",
    "sag"
   ]
  },
  {
   "cell_type": "code",
   "execution_count": null,
   "metadata": {
    "id": "9-LmHulHGfSv"
   },
   "outputs": [],
   "source": [
    "y1_train = list(sag['mean_train_score'])\n",
    "x1_train = [1 / i for i in list(sag['param_C'])]\n",
    "x1_train[1] = 0\n",
    "y1_test = list(sag['mean_test_score'])\n",
    "x1_test = [1 / i for i in list(sag['param_C'])]\n",
    "x1_test[1] = 0"
   ]
  },
  {
   "cell_type": "code",
   "execution_count": null,
   "metadata": {
    "colab": {
     "base_uri": "https://localhost:8080/",
     "height": 295
    },
    "id": "7sDt5QuvGfSv",
    "outputId": "3fc3bec5-04f7-4ac8-bb40-a9e0ca209861"
   },
   "outputs": [
    {
     "data": {
      "image/png": "[encoded data removed]",
      "text/plain": [
       "<Figure size 432x288 with 1 Axes>"
      ]
     },
     "metadata": {
      "needs_background": "light",
      "tags": []
     },
     "output_type": "display_data"
    }
   ],
   "source": [
    "plt.scatter(x1_test, y1_test, label='test', color='red')\n",
    "plt.scatter(x1_train, y1_train, label='train', color='blue')\n",
    "plt.title('Train and test scores with different λ-parameters')\n",
    "plt.ylabel('Score')\n",
    "plt.xlabel('λ parameter')\n",
    "plt.legend(loc='best')\n",
    "plt.show()"
   ]
  },
  {
   "cell_type": "markdown",
   "metadata": {
    "id": "Tamog6jiGfSv"
   },
   "source": [
    "## Total training"
   ]
  },
  {
   "cell_type": "markdown",
   "metadata": {
    "id": "8-2dwuDqGfSw"
   },
   "source": [
    "Итоговое обучение модели"
   ]
  },
  {
   "cell_type": "code",
   "execution_count": null,
   "metadata": {
    "id": "0aX1Awb_GfSw"
   },
   "outputs": [],
   "source": [
    "max_itr = 500\n",
    "solver = 'saga'\n",
    "penalty = 'l2'\n",
    "C = 0.1"
   ]
  },
  {
   "cell_type": "code",
   "execution_count": null,
   "metadata": {
    "colab": {
     "base_uri": "https://localhost:8080/"
    },
    "id": "BrpF5CTVGfSw",
    "outputId": "103525b6-676a-45d9-f8be-ff3a08c095e0"
   },
   "outputs": [
    {
     "name": "stderr",
     "output_type": "stream",
     "text": [
      "/usr/local/lib/python3.7/dist-packages/sklearn/linear_model/_sag.py:330: ConvergenceWarning: The max_iter was reached which means the coef_ did not converge\n",
      "  \"the coef_ did not converge\", ConvergenceWarning)\n",
      "/usr/local/lib/python3.7/dist-packages/sklearn/linear_model/_sag.py:330: ConvergenceWarning: The max_iter was reached which means the coef_ did not converge\n",
      "  \"the coef_ did not converge\", ConvergenceWarning)\n",
      "/usr/local/lib/python3.7/dist-packages/sklearn/linear_model/_sag.py:330: ConvergenceWarning: The max_iter was reached which means the coef_ did not converge\n",
      "  \"the coef_ did not converge\", ConvergenceWarning)\n"
     ]
    },
    {
     "name": "stdout",
     "output_type": "stream",
     "text": [
      "Cross val scores: [0.50344276 0.50240161 0.50648605]\n",
      "Mean cross val score: 0.5041\n",
      "----------------------------------------\n"
     ]
    },
    {
     "name": "stderr",
     "output_type": "stream",
     "text": [
      "/usr/local/lib/python3.7/dist-packages/sklearn/linear_model/_sag.py:330: ConvergenceWarning: The max_iter was reached which means the coef_ did not converge\n",
      "  \"the coef_ did not converge\", ConvergenceWarning)\n"
     ]
    },
    {
     "name": "stdout",
     "output_type": "stream",
     "text": [
      "Train score\n",
      "0.4821   Custom f-score\n",
      "0.4531   Contradiction's recall\n",
      "0.5315   Accuracy\n",
      "               precision    recall    fscore\n",
      "contradiction   0.550384  0.453091  0.461245\n",
      "neutral         0.518099  0.530634  0.529353\n",
      "entailment      0.529966  0.610830  0.601650\n",
      "Weighted*       0.545113  0.476619  0.482096\n",
      "----------------------------------------\n",
      "Val score\n",
      "0.4769   Custom f-score\n",
      "0.4565   Contradiction's recall\n",
      "0.5126   Accuracy\n",
      "               precision    recall    fscore\n",
      "contradiction   0.515847  0.456532  0.461842\n",
      "neutral         0.468099  0.553903  0.543932\n",
      "entailment      0.560110  0.527514  0.530602\n",
      "Weighted*       0.515498  0.473367  0.476927\n"
     ]
    }
   ],
   "source": [
    "clf = LogisticRegression(solver = solver, max_iter = max_itr, penalty = penalty, C = C)\n",
    "\n",
    "scores = cross_val_score(clf, X_train_all, y_train, cv=3, scoring= f_scorer)\n",
    "print(f'Cross val scores: {scores}')\n",
    "print(f'Mean cross val score: {scores.mean():.4f}')\n",
    "print('-'*40)\n",
    "\n",
    "clf.fit(X_train_all, y_train)\n",
    "y_train_preds = clf.predict(X_train_all)\n",
    "y_val_preds = clf.predict(X_val_all)\n",
    "\n",
    "print('Train score')\n",
    "print_metric(y_train, y_train_preds)\n",
    "print('-'*40)\n",
    "\n",
    "print('Val score')\n",
    "print_metric(y_val, y_val_preds)"
   ]
  },
  {
   "cell_type": "markdown",
   "metadata": {
    "id": "fnjqYy1cGfSx"
   },
   "source": [
    "## Результаты"
   ]
  },
  {
   "cell_type": "markdown",
   "metadata": {
    "id": "uLBdupowReP6"
   },
   "source": [
    "Так как не удалось получить csv файлы тестовой выборки для graph2vec, было принято решение использовать старый классификатор (хотя модель с синтаксисом показывает более высокие результаты)"
   ]
  },
  {
   "cell_type": "code",
   "execution_count": 53,
   "metadata": {
    "colab": {
     "base_uri": "https://localhost:8080/"
    },
    "id": "Xx6jXpwiPqMB",
    "outputId": "8ea3d19b-dfa9-4c7f-f3ad-5a6540ad7d52"
   },
   "outputs": [
    {
     "name": "stderr",
     "output_type": "stream",
     "text": [
      "/usr/local/lib/python3.7/dist-packages/sklearn/linear_model/_sag.py:330: ConvergenceWarning: The max_iter was reached which means the coef_ did not converge\n",
      "  \"the coef_ did not converge\", ConvergenceWarning)\n"
     ]
    },
    {
     "data": {
      "text/plain": [
       "LogisticRegression(C=0.1, class_weight=None, dual=False, fit_intercept=True,\n",
       "                   intercept_scaling=1, l1_ratio=None, max_iter=500,\n",
       "                   multi_class='auto', n_jobs=None, penalty='l2',\n",
       "                   random_state=None, solver='saga', tol=0.0001, verbose=0,\n",
       "                   warm_start=False)"
      ]
     },
     "execution_count": 53,
     "metadata": {
      "tags": []
     },
     "output_type": "execute_result"
    }
   ],
   "source": [
    "clf.fit(X_train, y_train)"
   ]
  },
  {
   "cell_type": "markdown",
   "metadata": {
    "id": "SZKONZ8IGfSx"
   },
   "source": [
    "Получение и сохранение результатов на тестовой выборке"
   ]
  },
  {
   "cell_type": "code",
   "execution_count": 54,
   "metadata": {
    "id": "yrDvhSYq0KSq"
   },
   "outputs": [],
   "source": [
    "y_test_preds = clf.predict(X_test1) \n",
    "output = pd.DataFrame({'pairID': test_matched.pairID, 'predicted_label': y_test_preds}) \n",
    "output.to_csv('results_matched.csv', index=False)"
   ]
  },
  {
   "cell_type": "code",
   "execution_count": 55,
   "metadata": {
    "id": "NxK1llHb0LtZ"
   },
   "outputs": [],
   "source": [
    "y_test_preds = clf.predict(X_test2) \n",
    "output = pd.DataFrame({'pairID': test_mismatched.pairID, 'predicted_label': y_test_preds}) \n",
    "output.to_csv('results_mismatched.csv', index=False)"
   ]
  }
 ],
 "metadata": {
  "colab": {
   "collapsed_sections": [],
   "name": "Это Match!.ipynb",
   "provenance": [],
   "toc_visible": true
  },
  "kernelspec": {
   "display_name": "Python 3",
   "language": "python",
   "name": "python3"
  },
  "language_info": {
   "codemirror_mode": {
    "name": "ipython",
    "version": 3
   },
   "file_extension": ".py",
   "mimetype": "text/x-python",
   "name": "python",
   "nbconvert_exporter": "python",
   "pygments_lexer": "ipython3",
   "version": "3.8.5"
  }
 },
 "nbformat": 4,
 "nbformat_minor": 1
}
